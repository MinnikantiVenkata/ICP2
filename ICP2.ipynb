{
  "nbformat": 4,
  "nbformat_minor": 0,
  "metadata": {
    "colab": {
      "provenance": []
    },
    "kernelspec": {
      "name": "python3",
      "display_name": "Python 3"
    },
    "language_info": {
      "name": "python"
    }
  },
  "cells": [
    {
      "cell_type": "code",
      "source": [
        "def fullname(first_name, last_name):\n",
        "    return first_name + \" \" + last_name\n",
        "\n",
        "first_name = input(\"Enter your first name: \")\n",
        "last_name = input(\"Enter your last name: \")\n",
        "full_name = fullname(first_name, last_name)\n",
        "print(\"Full Name:\", full_name)"
      ],
      "metadata": {
        "colab": {
          "base_uri": "https://localhost:8080/"
        },
        "id": "WvQw2dcy9tim",
        "outputId": "33045b45-8a27-4f0e-83d0-a6ee87189f0c"
      },
      "execution_count": 19,
      "outputs": [
        {
          "output_type": "stream",
          "name": "stdout",
          "text": [
            "Enter your first name: iuhdihdi\n",
            "Enter your last name: hwvghsv\n",
            "Full Name: iuhdihdi hwvghsv\n"
          ]
        }
      ]
    },
    {
      "cell_type": "code",
      "source": [
        "def string_alternative(stra):\n",
        "    return stra[::2]\n",
        "\n",
        "def main():\n",
        "    stra=input(\"Enter an input string: \")\n",
        "    alternate_chars = string_alternative(stra)\n",
        "    print(\"Alternate characters in Full Name:\", alternate_chars)\n",
        "if __name__ == \"__main__\":\n",
        "    main()\n"
      ],
      "metadata": {
        "id": "EwU5CX3f7Bbe"
      },
      "execution_count": 20,
      "outputs": []
    },
    {
      "cell_type": "code",
      "source": [
        "with open('input.txt', 'w') as f:\n",
        "    f.write(\"Python Course\\n\")\n",
        "    f.write(\"Deep Learning Course\\n\")"
      ],
      "metadata": {
        "id": "Fh7uls3IDJjl"
      },
      "execution_count": 32,
      "outputs": []
    },
    {
      "cell_type": "code",
      "source": [
        "def count_words_in_file(input_file, output_file):\n",
        "    word_count = {} # Initialize word_count dictionary\n",
        "# Read input file\n",
        "    with open(input_file, 'r') as file:\n",
        "        lines = file.readlines()\n",
        "    # Process each line\n",
        "        for line in lines:\n",
        "            words = line.strip().split()\n",
        "            for word in words:\n",
        "                if word in word_count:\n",
        "                    word_count[word] += 1\n",
        "                else:\n",
        "                    word_count[word] = 1\n",
        "\n",
        "    # Write output to file\n",
        "    with open(output_file, 'w') as file:\n",
        "        # Write original lines\n",
        "        for line in lines:\n",
        "            file.write(line)\n",
        "\n",
        "        file.write(\"Word_Count:\\n\")\n",
        "        # Write word counts\n",
        "        for word, count in sorted(word_count.items()):\n",
        "            file.write(f\"{word}: {count}\\n\")\n",
        "\n",
        "    print(f\"Output has been written to {output_file}\")\n",
        "\n",
        "# Usage example\n",
        "input_file = \"input.txt\"\n",
        "output_file = \"output.txt\"\n",
        "count_words_in_file(input_file, output_file)"
      ],
      "metadata": {
        "colab": {
          "base_uri": "https://localhost:8080/"
        },
        "id": "DR8kDHOwDnPr",
        "outputId": "c02dbfe4-f423-475c-9e12-b2ccddb1d9c7"
      },
      "execution_count": 33,
      "outputs": [
        {
          "output_type": "stream",
          "name": "stdout",
          "text": [
            "Output has been written to output.txt\n"
          ]
        }
      ]
    },
    {
      "cell_type": "code",
      "source": [
        "with open('output.txt', 'r') as f:\n",
        "    content = f.read()\n",
        "\n",
        "print(\"Content of input.txt:\")\n",
        "print(content)"
      ],
      "metadata": {
        "colab": {
          "base_uri": "https://localhost:8080/"
        },
        "id": "_aalks-XD8ED",
        "outputId": "d04d736d-b64a-437f-e958-600aea8881c0"
      },
      "execution_count": 34,
      "outputs": [
        {
          "output_type": "stream",
          "name": "stdout",
          "text": [
            "Content of input.txt:\n",
            "Python Course\n",
            "Deep Learning Course\n",
            "Word_Count:\n",
            "Course: 2\n",
            "Deep: 1\n",
            "Learning: 1\n",
            "Python: 1\n",
            "\n"
          ]
        }
      ]
    },
    {
      "cell_type": "code",
      "source": [
        "def convert_heights_nested(heights_inches):\n",
        "    heights_cm = []\n",
        "    for inch in heights_inches:\n",
        "        cm = inch * 2.54\n",
        "        heights_cm.append(round(cm, 2))\n",
        "    return heights_cm\n",
        "\n",
        "def main_nested():\n",
        "    num_customers = int(input(\"Enter the number of customers: \"))\n",
        "    heights_inches = []\n",
        "    for i in range(num_customers):\n",
        "        height_inch = float(input(f\"Enter height in inches for customer {i+1}: \"))\n",
        "        heights_inches.append(height_inch)\n",
        "    heights_cm = convert_heights_nested(heights_inches)\n",
        "    print(\"Heights in Inches:\", heights_inches)\n",
        "    print(\"Heights in Centimeters:\", heights_cm)\n",
        "\n",
        "if __name__ == \"__main__\":\n",
        "    main_nested()"
      ],
      "metadata": {
        "colab": {
          "base_uri": "https://localhost:8080/"
        },
        "id": "__QteI8CGog-",
        "outputId": "2131da56-c9e3-4287-f498-8d11ea06f3a1"
      },
      "execution_count": 37,
      "outputs": [
        {
          "output_type": "stream",
          "name": "stdout",
          "text": [
            "Enter the number of customers: 2\n",
            "Enter height in inches for customer 1: 22\n",
            "Enter height in inches for customer 2: 43\n",
            "Heights in Inches: [22.0, 43.0]\n",
            "Heights in Centimeters: [55.88, 109.22]\n"
          ]
        }
      ]
    },
    {
      "cell_type": "code",
      "source": [
        "def convert_heights_comprehension(heights_inches):\n",
        "    return [round(inch * 2.54, 2) for inch in heights_inches]\n",
        "\n",
        "def main_comprehension():\n",
        "    num_customers = int(input(\"Enter the number of customers: \"))\n",
        "    heights_inches = [float(input(f\"Enter height in inches for customer {i+1}: \")) for i in range(num_customers)]\n",
        "    heights_cm = convert_heights_comprehension(heights_inches)\n",
        "    print(\"Heights in Inches:\", heights_inches)\n",
        "    print(\"Heights in Centi:\", heights_cm)\n",
        "\n",
        "if __name__ == \"__main__\":\n",
        "    main_comprehension()"
      ],
      "metadata": {
        "colab": {
          "base_uri": "https://localhost:8080/"
        },
        "id": "dAP_1vNTHSKx",
        "outputId": "fb29bd19-9d28-4608-bdc8-991aec6aa678"
      },
      "execution_count": 38,
      "outputs": [
        {
          "output_type": "stream",
          "name": "stdout",
          "text": [
            "Enter the number of customers: 2\n",
            "Enter height in inches for customer 1: 23\n",
            "Enter height in inches for customer 2: 32\n",
            "Heights in Inches: [23.0, 32.0]\n",
            "Heights in Centimeters (using list comprehension): [58.42, 81.28]\n"
          ]
        }
      ]
    }
  ]
}